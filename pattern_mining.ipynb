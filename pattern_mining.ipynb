{
 "cells": [
  {
   "cell_type": "code",
   "execution_count": 1,
   "metadata": {},
   "outputs": [],
   "source": [
    "import numpy as np\n",
    "from sklearn.cluster import KMeans\n",
    "import pandas as pd\n",
    "from yellowbrick.cluster import KElbow\n",
    "from mlxtend.frequent_patterns import fpgrowth\n",
    "import warnings\n",
    "warnings.filterwarnings(action=\"ignore\")\n",
    "%load_ext autotime"
   ]
  },
  {
   "cell_type": "code",
   "execution_count": 75,
   "metadata": {},
   "outputs": [
    {
     "name": "stdout",
     "output_type": "stream",
     "text": [
      "time: 12.8 ms\n"
     ]
    }
   ],
   "source": [
    "class Binner():\n",
    "    \n",
    "    def __init__(self):\n",
    "        self.models = {}\n",
    "        self.number_of_bins_range = (2,10)\n",
    "        self.minimal_support_rate = .25\n",
    "        self.threshold = 1.0\n",
    "        \n",
    "    def sort_model_labels(self, model, original_labels):\n",
    "        \"\"\"Sorts labels in ascending order (cluster means) using a fit KMeans model\n",
    "        After sorting, the higher the label number, the higher the average values of the data with that label\n",
    "        Parameters\n",
    "        ----------\n",
    "        model : a fit KMeans model\n",
    "        original_labels : the labels we want to sort \n",
    "        Returns\n",
    "        -------\n",
    "        the sorted labels\n",
    "        \"\"\"\n",
    "        label_idx = np.argsort(model.cluster_centers_.sum(axis=1))\n",
    "        lookup_table = np.zeros_like(label_idx)\n",
    "        lookup_table[label_idx] = np.arange(model.n_clusters)\n",
    "        sorted_labels = lookup_table[original_labels]\n",
    "        return sorted_labels\n",
    "        \n",
    "    def create_bins(self, column_name, df, number_of_bins_range=(2,10), replace_in_df=True, verbose=False):\n",
    "        \"\"\"An adaptive binning algorithm to convert a continuous pandas dataframe column to discrete. K means algorithm is used to create bins. Mean sum of squared distances to center is used for evaluation. Knee point detection algorithm is used to select the best number of bins.\n",
    "        Parameters\n",
    "        ----------\n",
    "        column_name : the name of pandas dataframe column to convert\n",
    "        df : pandas dataframe object\n",
    "        number_of_bins_range : tuple, optional\n",
    "            The range of values for number of bins to try, the algorithm will automatically \n",
    "            select the best one from the range (default: (2,10)).\n",
    "        replace_in_df : boolean, optional\n",
    "            Whether to replace the column in the dataframe with the binned values (default: True).\n",
    "        verbose : boolean, optional\n",
    "            Whether to print out info\n",
    "        Returns\n",
    "        -------\n",
    "        the binned values \n",
    "        \"\"\"\n",
    "        self.number_of_bins_range = number_of_bins_range\n",
    "        data_to_bin = np.array(df[column_name]).reshape(-1, 1)\n",
    "        model = KMeans(random_state=100, n_init=10, n_jobs=-1)\n",
    "        elbow = KElbow(model, k=number_of_bins_range)\n",
    "        elbow.fit(data_to_bin)\n",
    "        optimal_number_of_bins = elbow.elbow_value_\n",
    "        model.set_params(n_clusters=optimal_number_of_bins)\n",
    "        model.fit(data_to_bin)\n",
    "        model.labels_ = self.sort_model_labels(model, model.labels_)\n",
    "        self.models[column_name] = model\n",
    "        if replace_in_df:\n",
    "            df[column_name] = model.labels_\n",
    "        if verbose:\n",
    "            print(\"For column: {}, optimal number of bins: {}\".format(column_name, optimal_number_of_bins))\n",
    "        return model.labels_\n",
    "    \n",
    "    \n",
    "    def find_patterns(self, df, minimal_support_rate=.33, number_of_bins_range=(2,10), verbose=False):\n",
    "        \"\"\"FP-growth algorithm to find patterns in the dataframe with a minimal support rate, after converting continuous features to discrete\n",
    "        Parameters\n",
    "        ----------\n",
    "        df : pandas dataframe object\n",
    "        minimal_support_rate : a float between 0 and 1 for minimum support of the itemsets returned\n",
    "        number_of_bins_range : tuple, optional\n",
    "            The range of values for number of bins to try, the algorithm will automatically \n",
    "            select the best one from the range (default: (2,10)).\n",
    "        verbose : boolean, optional\n",
    "            Whether to print out info\n",
    "        Returns\n",
    "        -------\n",
    "        all patterns found above minimal support rate\n",
    "        \"\"\"\n",
    "        self.models = {}\n",
    "        self.minimal_support_rate = minimal_support_rate\n",
    "        for column in df.columns:\n",
    "            try:\n",
    "                data_is_numeric = np.issubdtype(df[column].dtype, np.number)\n",
    "            except Exception as e:\n",
    "                print(\"Error creating bins for column: {}\\n{}\\n\".format(column, e))\n",
    "                data_is_numeric = False\n",
    "            if data_is_numeric:\n",
    "                try:\n",
    "                    binned_values = self.create_bins(column, df, number_of_bins_range=number_of_bins_range, verbose=verbose)\n",
    "                except Exception as e:\n",
    "                    print(\"Error creating bins for column: {}\\n{}\\n\".format(column, e))\n",
    "        df = pd.get_dummies(df, columns=df.columns)\n",
    "        self.patterns = fpgrowth(df, min_support=minimal_support_rate, use_colnames=True)\n",
    "        return self.patterns\n",
    "    \n",
    "    def transform_dataset(self, df):\n",
    "        \"\"\"Transforms a dataset, converting all continuous features to discrete using the previously fit KMeans models for labels\n",
    "        Parameters\n",
    "        ----------\n",
    "        df : pandas dataframe object to transform\n",
    "        Returns\n",
    "        -------\n",
    "        the transformed dataset\n",
    "        \"\"\"\n",
    "        for column in df.columns:\n",
    "            if column in self.models:\n",
    "                model = self.models[column]\n",
    "                predicted_labels = model.predict(np.array(df[column]).reshape(-1,1))\n",
    "                sorted_labels = self.sort_model_labels(model, predicted_labels)\n",
    "                df[column] = sorted_labels\n",
    "        df = pd.get_dummies(df, columns=df.columns)\n",
    "        return df\n",
    "    \n",
    "    def get_pattern_support_rate(self, pattern, df, verbose=False):\n",
    "        \"\"\"Gets the support rate for a pattern for a new dataset\n",
    "        Parameters\n",
    "        ----------\n",
    "        pattern : a pattern object\n",
    "        df : pandas dataframe object\n",
    "        verbose : boolean, optional\n",
    "            Whether to print out info\n",
    "        Returns\n",
    "        -------\n",
    "        all patterns found above minimal support rate\n",
    "        \"\"\"\n",
    "        pattern_columns = []\n",
    "        for item in pattern['itemsets']:\n",
    "            pattern_columns.append(item)\n",
    "        total_len = len(df)\n",
    "        support_num = len(pd.np.where(df[pattern_columns].eq(1).all(1))[0])\n",
    "        support_rate = support_num/total_len\n",
    "        if verbose:\n",
    "            print(\"Pattern Items: {}\".format(pattern['itemsets']))\n",
    "            print(\"Original Pattern Support Rate: {}\".format(pattern['support']))\n",
    "            print(\"Dataset Pattern Support Rate: {}\".format(support_rate))\n",
    "        return support_rate\n",
    "\n",
    "    def get_best_subset_patterns(self, full_df, subset_df, minimal_support_rate=.25, threshold=1.0, number_of_bins_range=(2,10), verbose=False):\n",
    "        \"\"\"Finds the patterns with the biggest difference between subset data support rate and full data support rate\n",
    "        Parameters\n",
    "        ----------\n",
    "        full_df : pandas dataframe object, full dataset to use for comparison\n",
    "        subset_df : pandas dataframe object, subset dataset to use for comparison\n",
    "        minimal_support_rate : float, optional (default: .25)\n",
    "            a float between 0 and 1 for minimum support of the itemsets returned\n",
    "        threshold : float, optional (default: 1.0)\n",
    "            the threshold to use for the conditon: support_rate(full data) * threshold < support_rate(subset)\n",
    "        number_of_bins_range : tuple, optional (defualt: (2,10))\n",
    "            The range of values for number of bins to try, the algorithm will automatically \n",
    "            select the best one from the range.\n",
    "        verbose : boolean, optional\n",
    "            Whether to print out info\n",
    "        Returns\n",
    "        -------\n",
    "        a dataframe with all the patterns that exceed the threshold equation for subset vs full dataset support rate\n",
    "        \"\"\"\n",
    "        self.threshold = threshold\n",
    "        subset_patterns = self.find_patterns(subset_df, minimal_support_rate=minimal_support_rate, number_of_bins_range=number_of_bins_range, verbose=verbose)\n",
    "        subset_key_patterns = []\n",
    "        if verbose:\n",
    "            print(\"All Susbet Patterns:\")\n",
    "        for idx,pattern in subset_patterns.iterrows():\n",
    "            full_dataset_support_rate = self.get_pattern_support_rate(pattern, self.transform_dataset(full_df.copy()))\n",
    "            subset_support_rate = pattern['support']\n",
    "            if full_dataset_support_rate * threshold < subset_support_rate:\n",
    "                pattern_list = [item for item in pattern['itemsets']]\n",
    "                subset_key_patterns.append({\"pattern\": pattern_list, \"subset_support\": subset_support_rate, \"full_dataset_support\": full_dataset_support_rate})\n",
    "                if verbose:\n",
    "                    print(pattern['itemsets'])\n",
    "                \n",
    "        subset_key_patterns = sorted(subset_key_patterns, key=lambda x: x['subset_support'] / x['full_dataset_support'], reverse=True)\n",
    "        return pd.DataFrame(subset_key_patterns)"
   ]
  },
  {
   "cell_type": "code",
   "execution_count": 76,
   "metadata": {},
   "outputs": [
    {
     "name": "stdout",
     "output_type": "stream",
     "text": [
      "time: 16.2 ms\n"
     ]
    }
   ],
   "source": [
    "import seaborn as sns\n",
    "iris = sns.load_dataset('iris')\n",
    "titanic = sns.load_dataset('titanic')\n",
    "binner = Binner()"
   ]
  },
  {
   "cell_type": "code",
   "execution_count": 77,
   "metadata": {},
   "outputs": [
    {
     "name": "stdout",
     "output_type": "stream",
     "text": [
      "Error creating bins for column: survived\n",
      "Found array with 0 sample(s) (shape=(0, 1)) while a minimum of 1 is required by check_pairwise_arrays.\n",
      "\n",
      "Error creating bins for column: pclass\n",
      "Found array with 0 sample(s) (shape=(0, 1)) while a minimum of 1 is required by check_pairwise_arrays.\n",
      "\n",
      "Error creating bins for column: age\n",
      "Input contains NaN, infinity or a value too large for dtype('float64').\n",
      "\n",
      "Error creating bins for column: sibsp\n",
      "Found array with 0 sample(s) (shape=(0, 1)) while a minimum of 1 is required by check_pairwise_arrays.\n",
      "\n",
      "Error creating bins for column: class\n",
      "data type not understood\n",
      "\n",
      "Error creating bins for column: deck\n",
      "data type not understood\n",
      "\n"
     ]
    },
    {
     "data": {
      "text/html": [
       "<div>\n",
       "<style scoped>\n",
       "    .dataframe tbody tr th:only-of-type {\n",
       "        vertical-align: middle;\n",
       "    }\n",
       "\n",
       "    .dataframe tbody tr th {\n",
       "        vertical-align: top;\n",
       "    }\n",
       "\n",
       "    .dataframe thead th {\n",
       "        text-align: right;\n",
       "    }\n",
       "</style>\n",
       "<table border=\"1\" class=\"dataframe\">\n",
       "  <thead>\n",
       "    <tr style=\"text-align: right;\">\n",
       "      <th></th>\n",
       "      <th>pattern</th>\n",
       "      <th>subset_support</th>\n",
       "      <th>full_dataset_support</th>\n",
       "    </tr>\n",
       "  </thead>\n",
       "  <tbody>\n",
       "    <tr>\n",
       "      <td>0</td>\n",
       "      <td>[sibsp_1, pclass_1]</td>\n",
       "      <td>0.303419</td>\n",
       "      <td>0.079686</td>\n",
       "    </tr>\n",
       "    <tr>\n",
       "      <td>1</td>\n",
       "      <td>[class_First, sibsp_1]</td>\n",
       "      <td>0.303419</td>\n",
       "      <td>0.079686</td>\n",
       "    </tr>\n",
       "    <tr>\n",
       "      <td>2</td>\n",
       "      <td>[alone_False, sibsp_1, pclass_1]</td>\n",
       "      <td>0.303419</td>\n",
       "      <td>0.079686</td>\n",
       "    </tr>\n",
       "    <tr>\n",
       "      <td>3</td>\n",
       "      <td>[alone_False, class_First, sibsp_1]</td>\n",
       "      <td>0.303419</td>\n",
       "      <td>0.079686</td>\n",
       "    </tr>\n",
       "    <tr>\n",
       "      <td>4</td>\n",
       "      <td>[sibsp_1, class_First, pclass_1]</td>\n",
       "      <td>0.303419</td>\n",
       "      <td>0.079686</td>\n",
       "    </tr>\n",
       "    <tr>\n",
       "      <td>5</td>\n",
       "      <td>[alone_False, sibsp_1, class_First, pclass_1]</td>\n",
       "      <td>0.303419</td>\n",
       "      <td>0.079686</td>\n",
       "    </tr>\n",
       "  </tbody>\n",
       "</table>\n",
       "</div>"
      ],
      "text/plain": [
       "                                         pattern  subset_support  \\\n",
       "0                            [sibsp_1, pclass_1]        0.303419   \n",
       "1                         [class_First, sibsp_1]        0.303419   \n",
       "2               [alone_False, sibsp_1, pclass_1]        0.303419   \n",
       "3            [alone_False, class_First, sibsp_1]        0.303419   \n",
       "4               [sibsp_1, class_First, pclass_1]        0.303419   \n",
       "5  [alone_False, sibsp_1, class_First, pclass_1]        0.303419   \n",
       "\n",
       "   full_dataset_support  \n",
       "0              0.079686  \n",
       "1              0.079686  \n",
       "2              0.079686  \n",
       "3              0.079686  \n",
       "4              0.079686  \n",
       "5              0.079686  "
      ]
     },
     "execution_count": 77,
     "metadata": {},
     "output_type": "execute_result"
    },
    {
     "data": {
      "image/png": "[encoded data removed]",
      "text/plain": [
       "<Figure size 432x288 with 3 Axes>"
      ]
     },
     "metadata": {
      "needs_background": "light"
     },
     "output_type": "display_data"
    },
    {
     "name": "stdout",
     "output_type": "stream",
     "text": [
      "time: 10.6 s\n"
     ]
    }
   ],
   "source": [
    "subset_key_patterns = binner.get_best_subset_patterns(full_df=titanic, subset_df=titanic[titanic['fare'] > 30], \n",
    "                                                      minimal_support_rate=.3, threshold=3.8, number_of_bins_range=(2,10))\n",
    "subset_key_patterns"
   ]
  },
  {
   "cell_type": "code",
   "execution_count": 78,
   "metadata": {},
   "outputs": [
    {
     "name": "stdout",
     "output_type": "stream",
     "text": [
      "For column: sepal_length, optimal number of bins: 4\n",
      "For column: sepal_width, optimal number of bins: 4\n",
      "For column: petal_length, optimal number of bins: 4\n",
      "For column: petal_width, optimal number of bins: 3\n",
      "All Susbet Patterns:\n",
      "frozenset({'sepal_length_1'})\n",
      "frozenset({'petal_width_1'})\n",
      "frozenset({'species_versicolor'})\n",
      "frozenset({'petal_length_2'})\n",
      "frozenset({'sepal_length_2'})\n",
      "frozenset({'petal_width_2'})\n",
      "frozenset({'species_virginica'})\n",
      "frozenset({'petal_width_1', 'species_versicolor'})\n",
      "frozenset({'species_virginica', 'petal_width_2'})\n"
     ]
    },
    {
     "data": {
      "text/html": [
       "<div>\n",
       "<style scoped>\n",
       "    .dataframe tbody tr th:only-of-type {\n",
       "        vertical-align: middle;\n",
       "    }\n",
       "\n",
       "    .dataframe tbody tr th {\n",
       "        vertical-align: top;\n",
       "    }\n",
       "\n",
       "    .dataframe thead th {\n",
       "        text-align: right;\n",
       "    }\n",
       "</style>\n",
       "<table border=\"1\" class=\"dataframe\">\n",
       "  <thead>\n",
       "    <tr style=\"text-align: right;\">\n",
       "      <th></th>\n",
       "      <th>pattern</th>\n",
       "      <th>subset_support</th>\n",
       "      <th>full_dataset_support</th>\n",
       "    </tr>\n",
       "  </thead>\n",
       "  <tbody>\n",
       "    <tr>\n",
       "      <td>0</td>\n",
       "      <td>[species_virginica, petal_width_2]</td>\n",
       "      <td>0.330935</td>\n",
       "      <td>0.306667</td>\n",
       "    </tr>\n",
       "    <tr>\n",
       "      <td>1</td>\n",
       "      <td>[sepal_length_1]</td>\n",
       "      <td>0.309353</td>\n",
       "      <td>0.286667</td>\n",
       "    </tr>\n",
       "    <tr>\n",
       "      <td>2</td>\n",
       "      <td>[petal_width_1]</td>\n",
       "      <td>0.374101</td>\n",
       "      <td>0.346667</td>\n",
       "    </tr>\n",
       "    <tr>\n",
       "      <td>3</td>\n",
       "      <td>[species_versicolor]</td>\n",
       "      <td>0.359712</td>\n",
       "      <td>0.333333</td>\n",
       "    </tr>\n",
       "    <tr>\n",
       "      <td>4</td>\n",
       "      <td>[petal_length_2]</td>\n",
       "      <td>0.323741</td>\n",
       "      <td>0.300000</td>\n",
       "    </tr>\n",
       "    <tr>\n",
       "      <td>5</td>\n",
       "      <td>[sepal_length_2]</td>\n",
       "      <td>0.345324</td>\n",
       "      <td>0.320000</td>\n",
       "    </tr>\n",
       "    <tr>\n",
       "      <td>6</td>\n",
       "      <td>[petal_width_2]</td>\n",
       "      <td>0.345324</td>\n",
       "      <td>0.320000</td>\n",
       "    </tr>\n",
       "    <tr>\n",
       "      <td>7</td>\n",
       "      <td>[species_virginica]</td>\n",
       "      <td>0.359712</td>\n",
       "      <td>0.333333</td>\n",
       "    </tr>\n",
       "    <tr>\n",
       "      <td>8</td>\n",
       "      <td>[petal_width_1, species_versicolor]</td>\n",
       "      <td>0.345324</td>\n",
       "      <td>0.320000</td>\n",
       "    </tr>\n",
       "  </tbody>\n",
       "</table>\n",
       "</div>"
      ],
      "text/plain": [
       "                               pattern  subset_support  full_dataset_support\n",
       "0   [species_virginica, petal_width_2]        0.330935              0.306667\n",
       "1                     [sepal_length_1]        0.309353              0.286667\n",
       "2                      [petal_width_1]        0.374101              0.346667\n",
       "3                 [species_versicolor]        0.359712              0.333333\n",
       "4                     [petal_length_2]        0.323741              0.300000\n",
       "5                     [sepal_length_2]        0.345324              0.320000\n",
       "6                      [petal_width_2]        0.345324              0.320000\n",
       "7                  [species_virginica]        0.359712              0.333333\n",
       "8  [petal_width_1, species_versicolor]        0.345324              0.320000"
      ]
     },
     "execution_count": 78,
     "metadata": {},
     "output_type": "execute_result"
    },
    {
     "data": {
      "image/png": "[encoded data removed]",
      "text/plain": [
       "<Figure size 432x288 with 5 Axes>"
      ]
     },
     "metadata": {
      "needs_background": "light"
     },
     "output_type": "display_data"
    },
    {
     "name": "stdout",
     "output_type": "stream",
     "text": [
      "time: 2.19 s\n"
     ]
    }
   ],
   "source": [
    "subset_key_patterns = binner.get_best_subset_patterns(full_df=iris, subset_df=iris[iris['sepal_length'] > 4.7], \n",
    "                                                      minimal_support_rate=.25, threshold=1.07, number_of_bins_range=(2,10), verbose=True)\n",
    "subset_key_patterns"
   ]
  },
  {
   "cell_type": "code",
   "execution_count": 80,
   "metadata": {},
   "outputs": [
    {
     "name": "stdout",
     "output_type": "stream",
     "text": [
      "Error creating bins for column: petal_width\n",
      "Found array with 0 sample(s) (shape=(0, 1)) while a minimum of 1 is required by check_pairwise_arrays.\n",
      "\n"
     ]
    },
    {
     "data": {
      "text/html": [
       "<div>\n",
       "<style scoped>\n",
       "    .dataframe tbody tr th:only-of-type {\n",
       "        vertical-align: middle;\n",
       "    }\n",
       "\n",
       "    .dataframe tbody tr th {\n",
       "        vertical-align: top;\n",
       "    }\n",
       "\n",
       "    .dataframe thead th {\n",
       "        text-align: right;\n",
       "    }\n",
       "</style>\n",
       "<table border=\"1\" class=\"dataframe\">\n",
       "  <thead>\n",
       "    <tr style=\"text-align: right;\">\n",
       "      <th></th>\n",
       "      <th>pattern</th>\n",
       "      <th>subset_support</th>\n",
       "      <th>full_dataset_support</th>\n",
       "    </tr>\n",
       "  </thead>\n",
       "  <tbody>\n",
       "    <tr>\n",
       "      <td>0</td>\n",
       "      <td>[species_setosa]</td>\n",
       "      <td>1.00</td>\n",
       "      <td>0.333333</td>\n",
       "    </tr>\n",
       "    <tr>\n",
       "      <td>1</td>\n",
       "      <td>[petal_width_0.2]</td>\n",
       "      <td>0.58</td>\n",
       "      <td>0.193333</td>\n",
       "    </tr>\n",
       "    <tr>\n",
       "      <td>2</td>\n",
       "      <td>[petal_length_1]</td>\n",
       "      <td>0.40</td>\n",
       "      <td>0.133333</td>\n",
       "    </tr>\n",
       "    <tr>\n",
       "      <td>3</td>\n",
       "      <td>[petal_length_2]</td>\n",
       "      <td>0.26</td>\n",
       "      <td>0.086667</td>\n",
       "    </tr>\n",
       "    <tr>\n",
       "      <td>4</td>\n",
       "      <td>[species_setosa, petal_width_0.2]</td>\n",
       "      <td>0.58</td>\n",
       "      <td>0.193333</td>\n",
       "    </tr>\n",
       "    <tr>\n",
       "      <td>5</td>\n",
       "      <td>[petal_length_1, species_setosa]</td>\n",
       "      <td>0.40</td>\n",
       "      <td>0.133333</td>\n",
       "    </tr>\n",
       "    <tr>\n",
       "      <td>6</td>\n",
       "      <td>[sepal_width_2, species_setosa]</td>\n",
       "      <td>0.40</td>\n",
       "      <td>0.133333</td>\n",
       "    </tr>\n",
       "    <tr>\n",
       "      <td>7</td>\n",
       "      <td>[species_setosa, sepal_length_2]</td>\n",
       "      <td>0.38</td>\n",
       "      <td>0.126667</td>\n",
       "    </tr>\n",
       "    <tr>\n",
       "      <td>8</td>\n",
       "      <td>[species_setosa, sepal_width_1]</td>\n",
       "      <td>0.32</td>\n",
       "      <td>0.106667</td>\n",
       "    </tr>\n",
       "    <tr>\n",
       "      <td>9</td>\n",
       "      <td>[petal_length_2, species_setosa]</td>\n",
       "      <td>0.26</td>\n",
       "      <td>0.086667</td>\n",
       "    </tr>\n",
       "    <tr>\n",
       "      <td>10</td>\n",
       "      <td>[sepal_length_2]</td>\n",
       "      <td>0.38</td>\n",
       "      <td>0.153333</td>\n",
       "    </tr>\n",
       "    <tr>\n",
       "      <td>11</td>\n",
       "      <td>[sepal_width_2]</td>\n",
       "      <td>0.40</td>\n",
       "      <td>0.186667</td>\n",
       "    </tr>\n",
       "  </tbody>\n",
       "</table>\n",
       "</div>"
      ],
      "text/plain": [
       "                              pattern  subset_support  full_dataset_support\n",
       "0                    [species_setosa]            1.00              0.333333\n",
       "1                   [petal_width_0.2]            0.58              0.193333\n",
       "2                    [petal_length_1]            0.40              0.133333\n",
       "3                    [petal_length_2]            0.26              0.086667\n",
       "4   [species_setosa, petal_width_0.2]            0.58              0.193333\n",
       "5    [petal_length_1, species_setosa]            0.40              0.133333\n",
       "6     [sepal_width_2, species_setosa]            0.40              0.133333\n",
       "7    [species_setosa, sepal_length_2]            0.38              0.126667\n",
       "8     [species_setosa, sepal_width_1]            0.32              0.106667\n",
       "9    [petal_length_2, species_setosa]            0.26              0.086667\n",
       "10                   [sepal_length_2]            0.38              0.153333\n",
       "11                    [sepal_width_2]            0.40              0.186667"
      ]
     },
     "execution_count": 80,
     "metadata": {},
     "output_type": "execute_result"
    },
    {
     "data": {
      "image/png": "[encoded data removed]",
      "text/plain": [
       "<Figure size 432x288 with 4 Axes>"
      ]
     },
     "metadata": {
      "needs_background": "light"
     },
     "output_type": "display_data"
    },
    {
     "name": "stdout",
     "output_type": "stream",
     "text": [
      "time: 1.74 s\n"
     ]
    }
   ],
   "source": [
    "subset_key_patterns = binner.get_best_subset_patterns(full_df=iris, subset_df=iris[iris['species'] == 'setosa'], \n",
    "                                                      minimal_support_rate=.25, threshold=1.45, number_of_bins_range=(2,10))\n",
    "subset_key_patterns"
   ]
  },
  {
   "cell_type": "code",
   "execution_count": null,
   "metadata": {},
   "outputs": [],
   "source": []
  },
  {
   "cell_type": "code",
   "execution_count": null,
   "metadata": {},
   "outputs": [],
   "source": []
  },
  {
   "cell_type": "code",
   "execution_count": null,
   "metadata": {},
   "outputs": [],
   "source": []
  },
  {
   "cell_type": "code",
   "execution_count": null,
   "metadata": {},
   "outputs": [],
   "source": []
  },
  {
   "cell_type": "code",
   "execution_count": null,
   "metadata": {},
   "outputs": [],
   "source": []
  },
  {
   "cell_type": "code",
   "execution_count": null,
   "metadata": {},
   "outputs": [],
   "source": []
  },
  {
   "cell_type": "code",
   "execution_count": null,
   "metadata": {},
   "outputs": [],
   "source": []
  },
  {
   "cell_type": "code",
   "execution_count": null,
   "metadata": {},
   "outputs": [],
   "source": []
  },
  {
   "cell_type": "code",
   "execution_count": null,
   "metadata": {},
   "outputs": [],
   "source": []
  },
  {
   "cell_type": "code",
   "execution_count": null,
   "metadata": {},
   "outputs": [],
   "source": []
  },
  {
   "cell_type": "code",
   "execution_count": null,
   "metadata": {},
   "outputs": [],
   "source": []
  },
  {
   "cell_type": "code",
   "execution_count": null,
   "metadata": {},
   "outputs": [],
   "source": []
  },
  {
   "cell_type": "code",
   "execution_count": null,
   "metadata": {},
   "outputs": [],
   "source": []
  },
  {
   "cell_type": "code",
   "execution_count": null,
   "metadata": {},
   "outputs": [],
   "source": []
  },
  {
   "cell_type": "code",
   "execution_count": null,
   "metadata": {},
   "outputs": [],
   "source": []
  },
  {
   "cell_type": "code",
   "execution_count": null,
   "metadata": {},
   "outputs": [],
   "source": []
  },
  {
   "cell_type": "code",
   "execution_count": null,
   "metadata": {},
   "outputs": [],
   "source": []
  },
  {
   "cell_type": "code",
   "execution_count": null,
   "metadata": {},
   "outputs": [],
   "source": []
  },
  {
   "cell_type": "code",
   "execution_count": null,
   "metadata": {},
   "outputs": [],
   "source": []
  },
  {
   "cell_type": "code",
   "execution_count": null,
   "metadata": {},
   "outputs": [],
   "source": []
  },
  {
   "cell_type": "code",
   "execution_count": null,
   "metadata": {},
   "outputs": [],
   "source": []
  },
  {
   "cell_type": "code",
   "execution_count": null,
   "metadata": {},
   "outputs": [],
   "source": []
  },
  {
   "cell_type": "code",
   "execution_count": null,
   "metadata": {},
   "outputs": [],
   "source": []
  },
  {
   "cell_type": "code",
   "execution_count": null,
   "metadata": {},
   "outputs": [],
   "source": []
  },
  {
   "cell_type": "code",
   "execution_count": null,
   "metadata": {},
   "outputs": [],
   "source": []
  },
  {
   "cell_type": "code",
   "execution_count": 12,
   "metadata": {},
   "outputs": [
    {
     "name": "stdout",
     "output_type": "stream",
     "text": [
      "time: 8.79 ms\n"
     ]
    }
   ],
   "source": [
    "class Binner():\n",
    "    \n",
    "    def __init__(self, df):\n",
    "        self.df = df\n",
    "        self.models = {}\n",
    "        \n",
    "    def sort_model_labels(self, model, original_labels):\n",
    "        label_idx = np.argsort(model.cluster_centers_.sum(axis=1))\n",
    "        lookup_table = np.zeros_like(label_idx)\n",
    "        lookup_table[label_idx] = np.arange(model.n_clusters)\n",
    "        sorted_labels = lookup_table[original_labels]\n",
    "        return sorted_labels\n",
    "        \n",
    "    def create_bins(self, column_name, df=None, number_of_bins_range=(2,10), replace_in_df=True):\n",
    "        \"\"\"An adaptive binning algorithm to convert a continuous pandas dataframe column to discrete. K means algorithm is used to create bins. Mean sum of squared distances to center is used for evaluation. Knee point detection algorithm is used to select the best number of bins.\n",
    "        Parameters\n",
    "        ----------\n",
    "        column_name : the name of pandas dataframe column to convert\n",
    "        df : pandas dataframe object, optional (default: self.df)\n",
    "        number_of_bins_range : tuple, optional\n",
    "            The range of values for number of bins to try, the algorithm will automatically \n",
    "            select the best one from the range (default: (2,10)).\n",
    "        replace_in_df : boolean, optional\n",
    "            Whether to replace the column in the dataframe with the binned values (default: True).\n",
    "        Returns\n",
    "        -------\n",
    "        the binned values \n",
    "        \"\"\"\n",
    "        if df is None:\n",
    "            df = self.df\n",
    "        data_to_bin = np.array(df[column_name]).reshape(-1, 1)\n",
    "        model = KMeans(random_state=100, n_init=10, n_jobs=-1)\n",
    "        elbow = KElbow(model, k=number_of_bins_range)\n",
    "        elbow.fit(data_to_bin)\n",
    "        optimal_number_of_bins = elbow.elbow_value_\n",
    "        model.set_params(n_clusters=optimal_number_of_bins)\n",
    "        model.fit(data_to_bin)\n",
    "#         label_idx = np.argsort(model.cluster_centers_.sum(axis=1))\n",
    "#         lookup_table = np.zeros_like(label_idx)\n",
    "#         lookup_table[label_idx] = np.arange(optimal_number_of_bins)\n",
    "#         model.labels_ = lookup_table[model.labels_]\n",
    "        model.labels_ = self.sort_model_labels(model, model.labels_)\n",
    "        self.models[column_name] = model\n",
    "        if replace_in_df:\n",
    "            df[column_name] = model.labels_\n",
    "        return model.labels_\n",
    "    \n",
    "    \n",
    "    def find_patterns(self, df=None, minimal_support_rate=.33, number_of_bins_range=(2,10)):\n",
    "        \"\"\"FP-growth algorithm to find patterns in the dataframe with a minimal support rate, after converting continuous features to discrete\n",
    "        Parameters\n",
    "        ----------\n",
    "        df : pandas dataframe object, optional (default: self.df)\n",
    "        minimal_support_rate : a float between 0 and 1 for minimum support of the itemsets returned\n",
    "        number_of_bins_range : tuple, optional\n",
    "            The range of values for number of bins to try, the algorithm will automatically \n",
    "            select the best one from the range (default: (2,10)).\n",
    "        Returns\n",
    "        -------\n",
    "        all patterns found above minimal support rate\n",
    "        \"\"\"\n",
    "        if df is None:\n",
    "            df = self.df\n",
    "        for column in df.columns:\n",
    "            if np.issubdtype(df[column].dtype, np.number):\n",
    "                try:\n",
    "                    binned_values = self.create_bins(column, df=df, number_of_bins_range=number_of_bins_range)\n",
    "                except:\n",
    "                    pass\n",
    "        df = pd.get_dummies(df, columns=df.columns)\n",
    "        self.patterns = fpgrowth(df, min_support=minimal_support_rate, use_colnames=True)\n",
    "        return self.patterns\n",
    "    \n",
    "    def transform_dataset(self, df):\n",
    "        for column in df.columns:\n",
    "            if column in self.models:\n",
    "                model = self.models[column]\n",
    "#                 label_idx = np.argsort(model.cluster_centers_.sum(axis=1))\n",
    "#                 lookup_table = np.zeros_like(label_idx)\n",
    "#                 lookup_table[label_idx] = np.arange(model.n_clusters)\n",
    "                predicted_labels = model.predict(np.array(df[column]).reshape(-1,1))\n",
    "#                 sorted_labels = lookup_table[predicted_labels]\n",
    "                sorted_labels = self.sort_model_labels(model, predicted_labels)\n",
    "                \n",
    "                df[column] = sorted_labels\n",
    "        df = pd.get_dummies(df, columns=df.columns)\n",
    "        return df\n",
    "    \n",
    "    def iris['species'](self, pattern, df, verbose=False):\n",
    "        pattern_columns = []\n",
    "        for item in pattern['itemsets']:\n",
    "            pattern_columns.append(item)\n",
    "        total_len = len(df)\n",
    "        support_num = len(pd.np.where(df[pattern_columns].eq(1).all(1))[0])\n",
    "        support_rate = support_num/total_len\n",
    "        if verbose:\n",
    "            print(\"Pattern Items: {}\".format(pattern['itemsets']))\n",
    "            print(\"Original Pattern Support Rate: {}\".format(pattern['support']))\n",
    "            print(\"Dataset Pattern Support Rate: {}\".format(support_rate))\n",
    "        return support_rate\n",
    "\n",
    "    def get_best_subset_patterns(self, full_df, subset_patterns, threshold=1, verbose=False):\n",
    "        subset_key_patterns = []\n",
    "        for idx,pattern in subset_patterns.iterrows():\n",
    "            full_dataset_support_rate = self.get_pattern_support_rate(pattern, self.transform_dataset(full_df.copy()))\n",
    "            subset_support_rate = pattern['support']\n",
    "            if full_dataset_support_rate * threshold < subset_support_rate:\n",
    "                pattern_list = [item for item in pattern['itemsets']]\n",
    "                subset_key_patterns.append(pattern_list)\n",
    "                if verbose:\n",
    "                    print(pattern['itemsets'])\n",
    "                \n",
    "        return subset_key_patterns"
   ]
  },
  {
   "cell_type": "code",
   "execution_count": 58,
   "metadata": {},
   "outputs": [
    {
     "name": "stdout",
     "output_type": "stream",
     "text": [
      "frozenset({'species_versicolor'})\n",
      "frozenset({'petal_length_1'})\n",
      "frozenset({'petal_width_1'})\n",
      "frozenset({'sepal_length_1'})\n",
      "frozenset({'sepal_width_1'})\n",
      "frozenset({'petal_width_2'})\n",
      "frozenset({'species_virginica'})\n",
      "frozenset({'petal_length_2'})\n",
      "frozenset({'species_versicolor', 'petal_length_1'})\n",
      "frozenset({'species_versicolor', 'petal_width_1'})\n",
      "frozenset({'sepal_length_0', 'species_versicolor'})\n",
      "frozenset({'species_versicolor', 'petal_length_0'})\n",
      "frozenset({'petal_length_2', 'species_virginica'})\n",
      "time: 270 ms\n"
     ]
    }
   ],
   "source": [
    "threshold = 1.45\n",
    "subset_key_patterns = []\n",
    "for idx,pattern in patterns.iterrows():\n",
    "    full_dataset_support_rate = bins.get_pattern_support_rate(pattern, bins.transform_dataset(iris.copy()))\n",
    "    subset_support_rate = pattern['support']\n",
    "    if full_dataset_support_rate * threshold < subset_support_rate:\n",
    "        print(pattern['itemsets'])\n",
    "        subset_key_patterns.append(pattern['itemsets'])"
   ]
  },
  {
   "cell_type": "code",
   "execution_count": 9,
   "metadata": {},
   "outputs": [
    {
     "data": {
      "text/plain": [
       "True"
      ]
     },
     "execution_count": 9,
     "metadata": {},
     "output_type": "execute_result"
    },
    {
     "name": "stdout",
     "output_type": "stream",
     "text": [
      "time: 4.14 ms\n"
     ]
    }
   ],
   "source": [
    ".1666 * .5 < .25"
   ]
  },
  {
   "cell_type": "code",
   "execution_count": null,
   "metadata": {},
   "outputs": [],
   "source": []
  },
  {
   "cell_type": "code",
   "execution_count": null,
   "metadata": {},
   "outputs": [],
   "source": []
  },
  {
   "cell_type": "code",
   "execution_count": null,
   "metadata": {},
   "outputs": [],
   "source": []
  },
  {
   "cell_type": "code",
   "execution_count": null,
   "metadata": {},
   "outputs": [],
   "source": []
  },
  {
   "cell_type": "code",
   "execution_count": null,
   "metadata": {},
   "outputs": [],
   "source": []
  },
  {
   "cell_type": "code",
   "execution_count": null,
   "metadata": {},
   "outputs": [],
   "source": []
  },
  {
   "cell_type": "code",
   "execution_count": 2,
   "metadata": {},
   "outputs": [
    {
     "name": "stdout",
     "output_type": "stream",
     "text": [
      "time: 8.81 ms\n"
     ]
    }
   ],
   "source": [
    "def create_bins(df, column_name, number_of_bins_range=(2,10), replace_in_df=True):\n",
    "    \"\"\"An adaptive binning algorithm to convert a continuous pandas dataframe column to discrete. K means algorithm is used to create bins. Mean sum of squared distances to center is used for evaluation. Knee point detection algorithm is used to select the best number of bins.\n",
    "    Parameters\n",
    "    ----------\n",
    "    df : pandas dataframe object\n",
    "    column_name : the name of pandas dataframe column to convert\n",
    "    number_of_bins_range : tuple, optional\n",
    "        The range of values for number of bins to try, the algorithm will automatically \n",
    "        select the best one from the range (default: (2,10)).\n",
    "    replace_in_df : boolean, optional\n",
    "        Whether to replace the column in the dataframe with the binned values (default: True).\n",
    "    Returns\n",
    "    -------\n",
    "    the binned values \n",
    "    \"\"\"\n",
    "    data_to_bin = np.array(df[column_name]).reshape(-1, 1)\n",
    "    model = KMeans(random_state=100, n_init=10, n_jobs=-1)\n",
    "    visualizer = KElbowVisualizer(model, k=number_of_bins_range).fit(data_to_bin)\n",
    "    optimal_number_of_bins = visualizer.elbow_value_\n",
    "    model.set_params(n_clusters=optimal_number_of_bins)\n",
    "    model.fit(data_to_bin)\n",
    "    label_idx = np.argsort(model.cluster_centers_.sum(axis=1))\n",
    "    lookup_table = np.zeros_like(label_idx)\n",
    "    lookup_table[label_idx] = np.arange(optimal_number_of_bins)\n",
    "    bins = lookup_table[model.labels_]\n",
    "    if replace_in_df:\n",
    "        df[column_name] = binned_values\n",
    "    return binned_values"
   ]
  },
  {
   "cell_type": "code",
   "execution_count": 3,
   "metadata": {},
   "outputs": [
    {
     "name": "stdout",
     "output_type": "stream",
     "text": [
      "time: 2.41 ms\n"
     ]
    }
   ],
   "source": [
    "def find_patterns(df, minimal_support_rate=.33, number_of_bins_range=(2,10)):\n",
    "    \"\"\"FP-growth algorithm to find patterns in the dataframe with a minimal support rate, after converting continuous features to discrete\n",
    "    Parameters\n",
    "    ----------\n",
    "    df : pandas dataframe object\n",
    "    minimal_support_rate : a float between 0 and 1 for minimum support of the itemsets returned\n",
    "    number_of_bins_range : tuple, optional\n",
    "        The range of values for number of bins to try, the algorithm will automatically \n",
    "        select the best one from the range (default: (2,10)).\n",
    "    Returns\n",
    "    -------\n",
    "    all patterns found above minimal support rate\n",
    "    \"\"\"\n",
    "    for column in df.columns:\n",
    "        if np.issubdtype(df[column].dtype, np.number):\n",
    "            try:\n",
    "                binned_values = create_bins(df, column, number_of_bins_range=number_of_bins_range)\n",
    "            except e:\n",
    "                pass\n",
    "    df = pd.get_dummies(df, columns=df.columns)\n",
    "    patterns = fpgrowth(df, min_support=minimal_support_rate, use_colnames=True)\n",
    "    return patterns"
   ]
  },
  {
   "cell_type": "code",
   "execution_count": 4,
   "metadata": {},
   "outputs": [
    {
     "data": {
      "text/html": [
       "<div>\n",
       "<style scoped>\n",
       "    .dataframe tbody tr th:only-of-type {\n",
       "        vertical-align: middle;\n",
       "    }\n",
       "\n",
       "    .dataframe tbody tr th {\n",
       "        vertical-align: top;\n",
       "    }\n",
       "\n",
       "    .dataframe thead th {\n",
       "        text-align: right;\n",
       "    }\n",
       "</style>\n",
       "<table border=\"1\" class=\"dataframe\">\n",
       "  <thead>\n",
       "    <tr style=\"text-align: right;\">\n",
       "      <th></th>\n",
       "      <th>support</th>\n",
       "      <th>itemsets</th>\n",
       "    </tr>\n",
       "  </thead>\n",
       "  <tbody>\n",
       "    <tr>\n",
       "      <td>0</td>\n",
       "      <td>0.333333</td>\n",
       "      <td>(species_setosa)</td>\n",
       "    </tr>\n",
       "    <tr>\n",
       "      <td>1</td>\n",
       "      <td>0.333333</td>\n",
       "      <td>(petal_width_0)</td>\n",
       "    </tr>\n",
       "    <tr>\n",
       "      <td>2</td>\n",
       "      <td>0.333333</td>\n",
       "      <td>(petal_length_0)</td>\n",
       "    </tr>\n",
       "    <tr>\n",
       "      <td>3</td>\n",
       "      <td>0.406667</td>\n",
       "      <td>(sepal_width_1)</td>\n",
       "    </tr>\n",
       "    <tr>\n",
       "      <td>4</td>\n",
       "      <td>0.346667</td>\n",
       "      <td>(petal_width_1)</td>\n",
       "    </tr>\n",
       "    <tr>\n",
       "      <td>5</td>\n",
       "      <td>0.333333</td>\n",
       "      <td>(species_versicolor)</td>\n",
       "    </tr>\n",
       "    <tr>\n",
       "      <td>6</td>\n",
       "      <td>0.333333</td>\n",
       "      <td>(species_virginica)</td>\n",
       "    </tr>\n",
       "    <tr>\n",
       "      <td>7</td>\n",
       "      <td>0.333333</td>\n",
       "      <td>(petal_width_0, species_setosa)</td>\n",
       "    </tr>\n",
       "    <tr>\n",
       "      <td>8</td>\n",
       "      <td>0.333333</td>\n",
       "      <td>(petal_length_0, petal_width_0)</td>\n",
       "    </tr>\n",
       "    <tr>\n",
       "      <td>9</td>\n",
       "      <td>0.333333</td>\n",
       "      <td>(petal_length_0, species_setosa)</td>\n",
       "    </tr>\n",
       "    <tr>\n",
       "      <td>10</td>\n",
       "      <td>0.333333</td>\n",
       "      <td>(petal_length_0, species_setosa, petal_width_0)</td>\n",
       "    </tr>\n",
       "  </tbody>\n",
       "</table>\n",
       "</div>"
      ],
      "text/plain": [
       "     support                                         itemsets\n",
       "0   0.333333                                 (species_setosa)\n",
       "1   0.333333                                  (petal_width_0)\n",
       "2   0.333333                                 (petal_length_0)\n",
       "3   0.406667                                  (sepal_width_1)\n",
       "4   0.346667                                  (petal_width_1)\n",
       "5   0.333333                             (species_versicolor)\n",
       "6   0.333333                              (species_virginica)\n",
       "7   0.333333                  (petal_width_0, species_setosa)\n",
       "8   0.333333                  (petal_length_0, petal_width_0)\n",
       "9   0.333333                 (petal_length_0, species_setosa)\n",
       "10  0.333333  (petal_length_0, species_setosa, petal_width_0)"
      ]
     },
     "execution_count": 4,
     "metadata": {},
     "output_type": "execute_result"
    },
    {
     "data": {
      "image/png": "[encoded data removed]",
      "text/plain": [
       "<Figure size 432x288 with 5 Axes>"
      ]
     },
     "metadata": {
      "needs_background": "light"
     },
     "output_type": "display_data"
    },
    {
     "name": "stdout",
     "output_type": "stream",
     "text": [
      "time: 2.43 s\n"
     ]
    }
   ],
   "source": [
    "import seaborn as sns\n",
    "iris = sns.load_dataset('iris')\n",
    "patterns = find_patterns(iris)\n",
    "patterns"
   ]
  },
  {
   "cell_type": "code",
   "execution_count": null,
   "metadata": {},
   "outputs": [],
   "source": []
  }
 ],
 "metadata": {
  "kernelspec": {
   "display_name": "Python 3",
   "language": "python",
   "name": "python3"
  },
  "language_info": {
   "codemirror_mode": {
    "name": "ipython",
    "version": 3
   },
   "file_extension": ".py",
   "mimetype": "text/x-python",
   "name": "python",
   "nbconvert_exporter": "python",
   "pygments_lexer": "ipython3",
   "version": "3.7.2"
  }
 },
 "nbformat": 4,
 "nbformat_minor": 4
}
