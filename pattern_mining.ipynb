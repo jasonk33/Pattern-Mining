{
 "cells": [
  {
   "cell_type": "code",
   "execution_count": 1,
   "metadata": {},
   "outputs": [
    {
     "name": "stdout",
     "output_type": "stream",
     "text": [
      "The autotime extension is already loaded. To reload it, use:\n",
      "  %reload_ext autotime\n"
     ]
    }
   ],
   "source": [
    "import numpy as np\n",
    "from sklearn.cluster import KMeans\n",
    "import pandas as pd\n",
    "from yellowbrick.cluster import KElbow\n",
    "from mlxtend.frequent_patterns import fpgrowth\n",
    "import warnings\n",
    "warnings.filterwarnings(action=\"ignore\")\n",
    "%load_ext autotime\n",
    "# %matplotlib inline\n",
    "%load_ext autotime"
   ]
  },
  {
   "cell_type": "code",
   "execution_count": 2,
   "metadata": {},
   "outputs": [
    {
     "name": "stdout",
     "output_type": "stream",
     "text": [
      "time: 8.85 ms\n"
     ]
    }
   ],
   "source": [
    "class Binner():\n",
    "    \n",
    "    def __init__(self, df):\n",
    "        self.df = df\n",
    "        self.models = {}\n",
    "        \n",
    "    def sort_model_labels(model, number_of_bins):\n",
    "        label_idx = np.argsort(model.cluster_centers_.sum(axis=1))\n",
    "        lookup_table = np.zeros_like(label_idx)\n",
    "        lookup_table[label_idx] = np.arange(number_of_bins)\n",
    "        model.labels_ = lookup_table[model.labels_]\n",
    "        return model\n",
    "        \n",
    "    def create_bins(self, column_name, df=None, number_of_bins_range=(2,10), replace_in_df=True):\n",
    "        \"\"\"An adaptive binning algorithm to convert a continuous pandas dataframe column to discrete. K means algorithm is used to create bins. Mean sum of squared distances to center is used for evaluation. Knee point detection algorithm is used to select the best number of bins.\n",
    "        Parameters\n",
    "        ----------\n",
    "        column_name : the name of pandas dataframe column to convert\n",
    "        df : pandas dataframe object, optional (default: self.df)\n",
    "        number_of_bins_range : tuple, optional\n",
    "            The range of values for number of bins to try, the algorithm will automatically \n",
    "            select the best one from the range (default: (2,10)).\n",
    "        replace_in_df : boolean, optional\n",
    "            Whether to replace the column in the dataframe with the binned values (default: True).\n",
    "        Returns\n",
    "        -------\n",
    "        the binned values \n",
    "        \"\"\"\n",
    "        if df is None:\n",
    "            df = self.df\n",
    "        data_to_bin = np.array(df[column_name]).reshape(-1, 1)\n",
    "        model = KMeans(random_state=100, n_init=10, n_jobs=-1)\n",
    "        elbow = KElbow(model, k=number_of_bins_range)\n",
    "        elbow.fit(data_to_bin)\n",
    "        optimal_number_of_bins = elbow.elbow_value_\n",
    "        model.set_params(n_clusters=optimal_number_of_bins)\n",
    "        model.fit(data_to_bin)\n",
    "        label_idx = np.argsort(model.cluster_centers_.sum(axis=1))\n",
    "        lookup_table = np.zeros_like(label_idx)\n",
    "        lookup_table[label_idx] = np.arange(optimal_number_of_bins)\n",
    "        model.labels_ = lookup_table[model.labels_]\n",
    "#         self.sort_model_labels(model, optimal_number_of_bins)\n",
    "        self.models[column_name] = model\n",
    "        if replace_in_df:\n",
    "            df[column_name] = model.labels_\n",
    "        return model.labels_\n",
    "    \n",
    "    \n",
    "    def find_patterns(self, df=None, minimal_support_rate=.33, number_of_bins_range=(2,10)):\n",
    "        \"\"\"FP-growth algorithm to find patterns in the dataframe with a minimal support rate, after converting continuous features to discrete\n",
    "        Parameters\n",
    "        ----------\n",
    "        df : pandas dataframe object, optional (default: self.df)\n",
    "        minimal_support_rate : a float between 0 and 1 for minimum support of the itemsets returned\n",
    "        number_of_bins_range : tuple, optional\n",
    "            The range of values for number of bins to try, the algorithm will automatically \n",
    "            select the best one from the range (default: (2,10)).\n",
    "        Returns\n",
    "        -------\n",
    "        all patterns found above minimal support rate\n",
    "        \"\"\"\n",
    "        if df is None:\n",
    "            df = self.df\n",
    "        for column in df.columns:\n",
    "            if np.issubdtype(df[column].dtype, np.number):\n",
    "                try:\n",
    "                    binned_values = self.create_bins(column, df=df, number_of_bins_range=number_of_bins_range)\n",
    "                except:\n",
    "                    pass\n",
    "        df = pd.get_dummies(df, columns=df.columns)\n",
    "        self.patterns = fpgrowth(df, min_support=minimal_support_rate, use_colnames=True)\n",
    "        return self.patterns\n",
    "    \n",
    "    def transform_dataset(self, df):\n",
    "        for column in df.columns:\n",
    "            if column in self.models:\n",
    "                model = self.models[column]\n",
    "                label_idx = np.argsort(model.cluster_centers_.sum(axis=1))\n",
    "                lookup_table = np.zeros_like(label_idx)\n",
    "                lookup_table[label_idx] = np.arange(4)\n",
    "                df[column] = lookup_table[model.predict(np.array(df[column]).reshape(-1,1))]\n",
    "        df = pd.get_dummies(df, columns=df.columns)\n",
    "        return df\n",
    "    \n",
    "    def get_pattern_support_rate(self, pattern, df):\n",
    "        pattern_columns = []\n",
    "        for item in pattern['itemsets']:\n",
    "            pattern_columns.append(item)\n",
    "        total_len = len(df)\n",
    "        support_num = len(pd.np.where(df[pattern_columns].eq(1).all(1))[0])\n",
    "        support_rate = support_num/total_len\n",
    "#         print(\"Pattern Items: {}\".format(pattern['itemsets']))\n",
    "#         print(\"Original Pattern Support Rate: {}\".format(pattern['support']))\n",
    "#         print(\"Dataset Pattern Support Rate: {}\".format(support_rate))\n",
    "        return support_rate\n",
    "\n",
    "    def get_best_subset_patterns(self, full_df, subset_patterns, threshold=1):\n",
    "        subset_key_patterns = []\n",
    "        for idx,pattern in subset_patterns.iterrows():\n",
    "            full_dataset_support_rate = self.get_pattern_support_rate(pattern, self.transform_dataset(full_df.copy()))\n",
    "            subset_support_rate = pattern['support']\n",
    "            if full_dataset_support_rate * threshold < subset_support_rate:\n",
    "#                 print(pattern['itemsets'])\n",
    "                pattern_list = [item for item in pattern['itemsets']]\n",
    "                subset_key_patterns.append(pattern_list)\n",
    "                \n",
    "        return subset_key_patterns"
   ]
  },
  {
   "cell_type": "code",
   "execution_count": 3,
   "metadata": {},
   "outputs": [
    {
     "name": "stdout",
     "output_type": "stream",
     "text": [
      "time: 629 ms\n"
     ]
    }
   ],
   "source": [
    "import seaborn as sns\n",
    "iris = sns.load_dataset('iris')\n",
    "binner = Binner(iris)"
   ]
  },
  {
   "cell_type": "code",
   "execution_count": 4,
   "metadata": {},
   "outputs": [
    {
     "data": {
      "image/png": "[encoded data removed]",
      "text/plain": [
       "<Figure size 432x288 with 5 Axes>"
      ]
     },
     "metadata": {
      "needs_background": "light"
     },
     "output_type": "display_data"
    },
    {
     "name": "stdout",
     "output_type": "stream",
     "text": [
      "time: 4.89 s\n"
     ]
    }
   ],
   "source": [
    "subset_patterns = binner.find_patterns(df=iris[iris['species'] != 'setosa'], minimal_support_rate=.25)"
   ]
  },
  {
   "cell_type": "code",
   "execution_count": 5,
   "metadata": {},
   "outputs": [
    {
     "data": {
      "text/plain": [
       "[['species_versicolor'],\n",
       " ['petal_length_1'],\n",
       " ['petal_width_1'],\n",
       " ['sepal_length_1'],\n",
       " ['sepal_width_1'],\n",
       " ['petal_width_2'],\n",
       " ['species_virginica'],\n",
       " ['petal_length_2'],\n",
       " ['petal_length_1', 'species_versicolor'],\n",
       " ['species_versicolor', 'petal_width_1'],\n",
       " ['sepal_length_0', 'species_versicolor'],\n",
       " ['species_versicolor', 'petal_length_0'],\n",
       " ['species_virginica', 'petal_length_2']]"
      ]
     },
     "execution_count": 5,
     "metadata": {},
     "output_type": "execute_result"
    },
    {
     "name": "stdout",
     "output_type": "stream",
     "text": [
      "time: 262 ms\n"
     ]
    }
   ],
   "source": [
    "subset_key_patterns = binner.get_best_subset_patterns(iris, subset_patterns, threshold=1.45)\n",
    "subset_key_patterns"
   ]
  },
  {
   "cell_type": "code",
   "execution_count": null,
   "metadata": {},
   "outputs": [],
   "source": []
  },
  {
   "cell_type": "code",
   "execution_count": null,
   "metadata": {},
   "outputs": [],
   "source": []
  },
  {
   "cell_type": "code",
   "execution_count": null,
   "metadata": {},
   "outputs": [],
   "source": []
  },
  {
   "cell_type": "code",
   "execution_count": null,
   "metadata": {},
   "outputs": [],
   "source": []
  },
  {
   "cell_type": "code",
   "execution_count": null,
   "metadata": {},
   "outputs": [],
   "source": []
  },
  {
   "cell_type": "code",
   "execution_count": null,
   "metadata": {},
   "outputs": [],
   "source": []
  },
  {
   "cell_type": "code",
   "execution_count": null,
   "metadata": {},
   "outputs": [],
   "source": []
  },
  {
   "cell_type": "code",
   "execution_count": null,
   "metadata": {},
   "outputs": [],
   "source": []
  },
  {
   "cell_type": "code",
   "execution_count": null,
   "metadata": {},
   "outputs": [],
   "source": []
  },
  {
   "cell_type": "code",
   "execution_count": null,
   "metadata": {},
   "outputs": [],
   "source": []
  },
  {
   "cell_type": "code",
   "execution_count": 58,
   "metadata": {},
   "outputs": [
    {
     "name": "stdout",
     "output_type": "stream",
     "text": [
      "frozenset({'species_versicolor'})\n",
      "frozenset({'petal_length_1'})\n",
      "frozenset({'petal_width_1'})\n",
      "frozenset({'sepal_length_1'})\n",
      "frozenset({'sepal_width_1'})\n",
      "frozenset({'petal_width_2'})\n",
      "frozenset({'species_virginica'})\n",
      "frozenset({'petal_length_2'})\n",
      "frozenset({'species_versicolor', 'petal_length_1'})\n",
      "frozenset({'species_versicolor', 'petal_width_1'})\n",
      "frozenset({'sepal_length_0', 'species_versicolor'})\n",
      "frozenset({'species_versicolor', 'petal_length_0'})\n",
      "frozenset({'petal_length_2', 'species_virginica'})\n",
      "time: 270 ms\n"
     ]
    }
   ],
   "source": [
    "threshold = 1.45\n",
    "subset_key_patterns = []\n",
    "for idx,pattern in patterns.iterrows():\n",
    "    full_dataset_support_rate = bins.get_pattern_support_rate(pattern, bins.transform_dataset(iris.copy()))\n",
    "    subset_support_rate = pattern['support']\n",
    "    if full_dataset_support_rate * threshold < subset_support_rate:\n",
    "        print(pattern['itemsets'])\n",
    "        subset_key_patterns.append(pattern['itemsets'])"
   ]
  },
  {
   "cell_type": "code",
   "execution_count": 9,
   "metadata": {},
   "outputs": [
    {
     "data": {
      "text/plain": [
       "True"
      ]
     },
     "execution_count": 9,
     "metadata": {},
     "output_type": "execute_result"
    },
    {
     "name": "stdout",
     "output_type": "stream",
     "text": [
      "time: 4.14 ms\n"
     ]
    }
   ],
   "source": [
    ".1666 * .5 < .25"
   ]
  },
  {
   "cell_type": "code",
   "execution_count": null,
   "metadata": {},
   "outputs": [],
   "source": []
  },
  {
   "cell_type": "code",
   "execution_count": null,
   "metadata": {},
   "outputs": [],
   "source": []
  },
  {
   "cell_type": "code",
   "execution_count": null,
   "metadata": {},
   "outputs": [],
   "source": []
  },
  {
   "cell_type": "code",
   "execution_count": null,
   "metadata": {},
   "outputs": [],
   "source": []
  },
  {
   "cell_type": "code",
   "execution_count": null,
   "metadata": {},
   "outputs": [],
   "source": []
  },
  {
   "cell_type": "code",
   "execution_count": null,
   "metadata": {},
   "outputs": [],
   "source": []
  },
  {
   "cell_type": "code",
   "execution_count": 2,
   "metadata": {},
   "outputs": [
    {
     "name": "stdout",
     "output_type": "stream",
     "text": [
      "time: 8.81 ms\n"
     ]
    }
   ],
   "source": [
    "def create_bins(df, column_name, number_of_bins_range=(2,10), replace_in_df=True):\n",
    "    \"\"\"An adaptive binning algorithm to convert a continuous pandas dataframe column to discrete. K means algorithm is used to create bins. Mean sum of squared distances to center is used for evaluation. Knee point detection algorithm is used to select the best number of bins.\n",
    "    Parameters\n",
    "    ----------\n",
    "    df : pandas dataframe object\n",
    "    column_name : the name of pandas dataframe column to convert\n",
    "    number_of_bins_range : tuple, optional\n",
    "        The range of values for number of bins to try, the algorithm will automatically \n",
    "        select the best one from the range (default: (2,10)).\n",
    "    replace_in_df : boolean, optional\n",
    "        Whether to replace the column in the dataframe with the binned values (default: True).\n",
    "    Returns\n",
    "    -------\n",
    "    the binned values \n",
    "    \"\"\"\n",
    "    data_to_bin = np.array(df[column_name]).reshape(-1, 1)\n",
    "    model = KMeans(random_state=100, n_init=10, n_jobs=-1)\n",
    "    visualizer = KElbowVisualizer(model, k=number_of_bins_range).fit(data_to_bin)\n",
    "    optimal_number_of_bins = visualizer.elbow_value_\n",
    "    model.set_params(n_clusters=optimal_number_of_bins)\n",
    "    model.fit(data_to_bin)\n",
    "    label_idx = np.argsort(model.cluster_centers_.sum(axis=1))\n",
    "    lookup_table = np.zeros_like(label_idx)\n",
    "    lookup_table[label_idx] = np.arange(optimal_number_of_bins)\n",
    "    bins = lookup_table[model.labels_]\n",
    "    if replace_in_df:\n",
    "        df[column_name] = binned_values\n",
    "    return binned_values"
   ]
  },
  {
   "cell_type": "code",
   "execution_count": 3,
   "metadata": {},
   "outputs": [
    {
     "name": "stdout",
     "output_type": "stream",
     "text": [
      "time: 2.41 ms\n"
     ]
    }
   ],
   "source": [
    "def find_patterns(df, minimal_support_rate=.33, number_of_bins_range=(2,10)):\n",
    "    \"\"\"FP-growth algorithm to find patterns in the dataframe with a minimal support rate, after converting continuous features to discrete\n",
    "    Parameters\n",
    "    ----------\n",
    "    df : pandas dataframe object\n",
    "    minimal_support_rate : a float between 0 and 1 for minimum support of the itemsets returned\n",
    "    number_of_bins_range : tuple, optional\n",
    "        The range of values for number of bins to try, the algorithm will automatically \n",
    "        select the best one from the range (default: (2,10)).\n",
    "    Returns\n",
    "    -------\n",
    "    all patterns found above minimal support rate\n",
    "    \"\"\"\n",
    "    for column in df.columns:\n",
    "        if np.issubdtype(df[column].dtype, np.number):\n",
    "            try:\n",
    "                binned_values = create_bins(df, column, number_of_bins_range=number_of_bins_range)\n",
    "            except e:\n",
    "                pass\n",
    "    df = pd.get_dummies(df, columns=df.columns)\n",
    "    patterns = fpgrowth(df, min_support=minimal_support_rate, use_colnames=True)\n",
    "    return patterns"
   ]
  },
  {
   "cell_type": "code",
   "execution_count": 4,
   "metadata": {},
   "outputs": [
    {
     "data": {
      "text/html": [
       "<div>\n",
       "<style scoped>\n",
       "    .dataframe tbody tr th:only-of-type {\n",
       "        vertical-align: middle;\n",
       "    }\n",
       "\n",
       "    .dataframe tbody tr th {\n",
       "        vertical-align: top;\n",
       "    }\n",
       "\n",
       "    .dataframe thead th {\n",
       "        text-align: right;\n",
       "    }\n",
       "</style>\n",
       "<table border=\"1\" class=\"dataframe\">\n",
       "  <thead>\n",
       "    <tr style=\"text-align: right;\">\n",
       "      <th></th>\n",
       "      <th>support</th>\n",
       "      <th>itemsets</th>\n",
       "    </tr>\n",
       "  </thead>\n",
       "  <tbody>\n",
       "    <tr>\n",
       "      <td>0</td>\n",
       "      <td>0.333333</td>\n",
       "      <td>(species_setosa)</td>\n",
       "    </tr>\n",
       "    <tr>\n",
       "      <td>1</td>\n",
       "      <td>0.333333</td>\n",
       "      <td>(petal_width_0)</td>\n",
       "    </tr>\n",
       "    <tr>\n",
       "      <td>2</td>\n",
       "      <td>0.333333</td>\n",
       "      <td>(petal_length_0)</td>\n",
       "    </tr>\n",
       "    <tr>\n",
       "      <td>3</td>\n",
       "      <td>0.406667</td>\n",
       "      <td>(sepal_width_1)</td>\n",
       "    </tr>\n",
       "    <tr>\n",
       "      <td>4</td>\n",
       "      <td>0.346667</td>\n",
       "      <td>(petal_width_1)</td>\n",
       "    </tr>\n",
       "    <tr>\n",
       "      <td>5</td>\n",
       "      <td>0.333333</td>\n",
       "      <td>(species_versicolor)</td>\n",
       "    </tr>\n",
       "    <tr>\n",
       "      <td>6</td>\n",
       "      <td>0.333333</td>\n",
       "      <td>(species_virginica)</td>\n",
       "    </tr>\n",
       "    <tr>\n",
       "      <td>7</td>\n",
       "      <td>0.333333</td>\n",
       "      <td>(petal_width_0, species_setosa)</td>\n",
       "    </tr>\n",
       "    <tr>\n",
       "      <td>8</td>\n",
       "      <td>0.333333</td>\n",
       "      <td>(petal_length_0, petal_width_0)</td>\n",
       "    </tr>\n",
       "    <tr>\n",
       "      <td>9</td>\n",
       "      <td>0.333333</td>\n",
       "      <td>(petal_length_0, species_setosa)</td>\n",
       "    </tr>\n",
       "    <tr>\n",
       "      <td>10</td>\n",
       "      <td>0.333333</td>\n",
       "      <td>(petal_length_0, species_setosa, petal_width_0)</td>\n",
       "    </tr>\n",
       "  </tbody>\n",
       "</table>\n",
       "</div>"
      ],
      "text/plain": [
       "     support                                         itemsets\n",
       "0   0.333333                                 (species_setosa)\n",
       "1   0.333333                                  (petal_width_0)\n",
       "2   0.333333                                 (petal_length_0)\n",
       "3   0.406667                                  (sepal_width_1)\n",
       "4   0.346667                                  (petal_width_1)\n",
       "5   0.333333                             (species_versicolor)\n",
       "6   0.333333                              (species_virginica)\n",
       "7   0.333333                  (petal_width_0, species_setosa)\n",
       "8   0.333333                  (petal_length_0, petal_width_0)\n",
       "9   0.333333                 (petal_length_0, species_setosa)\n",
       "10  0.333333  (petal_length_0, species_setosa, petal_width_0)"
      ]
     },
     "execution_count": 4,
     "metadata": {},
     "output_type": "execute_result"
    },
    {
     "data": {
      "image/png": "[encoded data removed]",
      "text/plain": [
       "<Figure size 432x288 with 5 Axes>"
      ]
     },
     "metadata": {
      "needs_background": "light"
     },
     "output_type": "display_data"
    },
    {
     "name": "stdout",
     "output_type": "stream",
     "text": [
      "time: 2.43 s\n"
     ]
    }
   ],
   "source": [
    "import seaborn as sns\n",
    "iris = sns.load_dataset('iris')\n",
    "patterns = find_patterns(iris)\n",
    "patterns"
   ]
  },
  {
   "cell_type": "code",
   "execution_count": null,
   "metadata": {},
   "outputs": [],
   "source": []
  }
 ],
 "metadata": {
  "kernelspec": {
   "display_name": "Python 3",
   "language": "python",
   "name": "python3"
  },
  "language_info": {
   "codemirror_mode": {
    "name": "ipython",
    "version": 3
   },
   "file_extension": ".py",
   "mimetype": "text/x-python",
   "name": "python",
   "nbconvert_exporter": "python",
   "pygments_lexer": "ipython3",
   "version": "3.7.2"
  }
 },
 "nbformat": 4,
 "nbformat_minor": 4
}
